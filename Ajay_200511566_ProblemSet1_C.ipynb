{
 "cells": [
  {
   "cell_type": "markdown",
   "id": "70732867",
   "metadata": {},
   "source": [
    "# Questions 1 to 5 (C#)"
   ]
  },
  {
   "cell_type": "markdown",
   "id": "2a5cda4c",
   "metadata": {},
   "source": [
    "### Question 1"
   ]
  },
  {
   "cell_type": "markdown",
   "id": "79745792",
   "metadata": {},
   "source": [
    "*What data type is each of the following?*"
   ]
  },
  {
   "cell_type": "code",
   "execution_count": 25,
   "id": "0bdf3a93",
   "metadata": {},
   "outputs": [
    {
     "name": "stdout",
     "output_type": "stream",
     "text": [
      "System.Int32\r\n"
     ]
    }
   ],
   "source": [
    "dynamic a = 5;\n",
    "Console.WriteLine(a.GetType());"
   ]
  },
  {
   "cell_type": "code",
   "execution_count": 26,
   "id": "f020ca6b",
   "metadata": {},
   "outputs": [
    {
     "name": "stdout",
     "output_type": "stream",
     "text": [
      "System.Double\r\n"
     ]
    }
   ],
   "source": [
    "dynamic a = 5.0;\n",
    "Console.WriteLine(a.GetType());"
   ]
  },
  {
   "cell_type": "code",
   "execution_count": 27,
   "id": "f4e36fde",
   "metadata": {},
   "outputs": [
    {
     "name": "stdout",
     "output_type": "stream",
     "text": [
      "System.Boolean\r\n"
     ]
    }
   ],
   "source": [
    "dynamic a = 5>1;\n",
    "Console.WriteLine(a.GetType());"
   ]
  },
  {
   "cell_type": "code",
   "execution_count": 28,
   "id": "e7b0535a",
   "metadata": {},
   "outputs": [
    {
     "name": "stdout",
     "output_type": "stream",
     "text": [
      "System.Char\r\n"
     ]
    }
   ],
   "source": [
    "dynamic a = '5';\n",
    "Console.WriteLine(a.GetType());"
   ]
  },
  {
   "cell_type": "code",
   "execution_count": 29,
   "id": "e1de8ebf",
   "metadata": {},
   "outputs": [
    {
     "name": "stdout",
     "output_type": "stream",
     "text": [
      "System.Int32\r\n"
     ]
    }
   ],
   "source": [
    "dynamic a = 5 * 2;\n",
    "Console.WriteLine(a.GetType());"
   ]
  },
  {
   "cell_type": "code",
   "execution_count": 30,
   "id": "bd0c4c08",
   "metadata": {},
   "outputs": [
    {
     "name": "stdout",
     "output_type": "stream",
     "text": [
      "System.Int32\r\n"
     ]
    }
   ],
   "source": [
    "dynamic a = '5' * 2;\n",
    "Console.WriteLine(a.GetType());"
   ]
  },
  {
   "cell_type": "code",
   "execution_count": 31,
   "id": "d2cc481d",
   "metadata": {},
   "outputs": [
    {
     "name": "stdout",
     "output_type": "stream",
     "text": [
      "System.Int32\r\n"
     ]
    }
   ],
   "source": [
    "dynamic a = '5' + '2';\n",
    "Console.WriteLine(a.GetType());"
   ]
  },
  {
   "cell_type": "code",
   "execution_count": 32,
   "id": "e00593b6",
   "metadata": {},
   "outputs": [
    {
     "name": "stdout",
     "output_type": "stream",
     "text": [
      "System.Int32\r\n"
     ]
    }
   ],
   "source": [
    "dynamic a = 5 / 2;\n",
    "Console.WriteLine(a.GetType());"
   ]
  },
  {
   "cell_type": "code",
   "execution_count": 33,
   "id": "92da1b9d",
   "metadata": {},
   "outputs": [
    {
     "name": "stdout",
     "output_type": "stream",
     "text": [
      "System.Int32\r\n"
     ]
    }
   ],
   "source": [
    "dynamic a = 5 % 2;\n",
    "Console.WriteLine(a.GetType());"
   ]
  },
  {
   "cell_type": "code",
   "execution_count": null,
   "id": "d8122c12",
   "metadata": {},
   "outputs": [],
   "source": [
    "{5, 2, 1} = Integer array"
   ]
  },
  {
   "cell_type": "code",
   "execution_count": 39,
   "id": "27690f80",
   "metadata": {},
   "outputs": [
    {
     "name": "stdout",
     "output_type": "stream",
     "text": [
      "System.Boolean\r\n"
     ]
    }
   ],
   "source": [
    "dynamic a = 5 == 3;\n",
    "Console.WriteLine(a.GetType());"
   ]
  },
  {
   "cell_type": "code",
   "execution_count": 41,
   "id": "638bc3c3",
   "metadata": {},
   "outputs": [
    {
     "name": "stdout",
     "output_type": "stream",
     "text": [
      "System.Double\r\n"
     ]
    }
   ],
   "source": [
    "double a = 22/7;\n",
    "Console.WriteLine(a.GetType());"
   ]
  },
  {
   "cell_type": "markdown",
   "id": "1c2d67a4",
   "metadata": {},
   "source": [
    "### Question 2 \n",
    "\n",
    "**A.** *How many letters are there in 'Supercalifragilisticexpialidocious'?*"
   ]
  },
  {
   "cell_type": "code",
   "execution_count": 12,
   "id": "152e1c2f",
   "metadata": {},
   "outputs": [
    {
     "name": "stdout",
     "output_type": "stream",
     "text": [
      "Easy way to calculate string length \n",
      "------------------------------------\n",
      "Length of the string is: 34\n"
     ]
    }
   ],
   "source": [
    "string word= \"Supercalifragilisticexpialidocious\";\n",
    "int length= word.Length;\n",
    "Console.WriteLine(\"Easy way to calculate string length \");\n",
    "Console.WriteLine(\"------------------------------------\");\n",
    "Console.WriteLine(\"Length of the string is: \"+length)"
   ]
  },
  {
   "cell_type": "markdown",
   "id": "810af3aa",
   "metadata": {},
   "source": [
    " **B.** *Does 'Supercalifragilisticexpialidocious' contain 'ice' as a substring?*\n"
   ]
  },
  {
   "cell_type": "code",
   "execution_count": 14,
   "id": "b80e1f26",
   "metadata": {},
   "outputs": [
    {
     "name": "stdout",
     "output_type": "stream",
     "text": [
      "Yes, String contains 'ice' as a substring!\r\n"
     ]
    }
   ],
   "source": [
    "string word = \"Supercalifragilisticexpialidocious\";\n",
    "bool check = word.Contains(\"ice\");\n",
    "if (check == false) {                        // based on the check, it will print the answer  \n",
    "    Console.WriteLine(\"It doesn't contain 'ice' as a substring\");\n",
    "} else {\n",
    "    Console.WriteLine(\"Yes, String contains 'ice' as a substring!\");\n",
    "}"
   ]
  },
  {
   "cell_type": "markdown",
   "id": "ae750c91",
   "metadata": {},
   "source": [
    " **C.** *Which of the following words is the longest: \n",
    "Supercalifragilisticexpialidocious, Honorificabilitudinitatibus, or \n",
    "Bababadalgharaghtakamminarronnkonn?*"
   ]
  },
  {
   "cell_type": "code",
   "execution_count": 17,
   "id": "545dbef5",
   "metadata": {},
   "outputs": [
    {
     "name": "stdout",
     "output_type": "stream",
     "text": [
      "Lengthiest word is/are 2 \n",
      "--------------------------------------------\n",
      "Supercalifragilisticexpialidocious\n",
      "Bababadalgharaghtakamminarronnkonn\n"
     ]
    }
   ],
   "source": [
    "string[] words = {                      \n",
    "                   \"Supercalifragilisticexpialidocious\",\n",
    "                   \"Honorificabilitudinitatibus\",\n",
    "                   \"Bababadalgharaghtakamminarronnkonn\"\n",
    "                 };\n",
    "                 \n",
    "string word = \"\";\n",
    "int WordLength = 0;\n",
    "List < string > longerWords = new List < string > ();\n",
    "String[] str;\n",
    "foreach(string s in words)\n",
    "{\n",
    "    if (s.Length >= WordLength)              // Used foreach loop to check the length of every word\n",
    "    {\n",
    "        word = s;\n",
    "        WordLength = s.Length;\n",
    "        longerWords.Add(word);              //adding words in a list \n",
    "        //str = longerWords.ToArray();\n",
    "    }\n",
    "}\n",
    "Console.WriteLine($\"Lengthiest word is/are {longerWords.Count} \"); //Counting the lengthiest words\n",
    "Console.WriteLine(\"--------------------------------------------\");\n",
    "\n",
    "foreach(string s in longerWords)    // Printing words using foreach loop\n",
    "{       \n",
    "    Console.WriteLine(s);\n",
    "}"
   ]
  },
  {
   "cell_type": "markdown",
   "id": "c58e157a",
   "metadata": {},
   "source": [
    " **D.** *Which composer comes first in the dictionary: 'Berlioz', 'Borodin', 'Brian', \n",
    "'Bartok', 'Bellini', 'Buxtehude', 'Bernstein'. Which one comes last?*"
   ]
  },
  {
   "cell_type": "code",
   "execution_count": 18,
   "id": "0138c066",
   "metadata": {},
   "outputs": [
    {
     "name": "stdout",
     "output_type": "stream",
     "text": [
      "Sorted by Composer Name\n",
      "-----------------------\n",
      "Key: Bartok, Value: 4\n",
      "Key: Bellini, Value: 5\n",
      "Key: Berlioz, Value: 1\n",
      "Key: Bernsteinl, Value: 7\n",
      "Key: Borodin, Value: 2\n",
      "Key: Brian, Value: 3\n",
      "Key: Buxtehude, Value: 6\n",
      "\n",
      "First Composer : Bartok,\n",
      "Last Composer : Buxtehude\n",
      "\n",
      "First Composer : [Bartok, 4],\n",
      "Last Composer : [Buxtehude, 6]\n",
      "\n",
      "By Second Method using sorted set\n",
      "\n",
      "First Composer : Bartok,\n",
      "Last Composer : Buxtehude\n"
     ]
    }
   ],
   "source": [
    " Dictionary < string, Int16 > ComposerList = new Dictionary < string, Int16 > ();  \n",
    " ComposerList.Add(\"Berlioz\", 1);\n",
    " ComposerList.Add(\"Borodin\", 2);\n",
    " ComposerList.Add(\"Brian\", 3);\n",
    " ComposerList.Add(\"Bartok\", 4);\n",
    " ComposerList.Add(\"Bellini\", 5);\n",
    " ComposerList.Add(\"Buxtehude\", 6);\n",
    " ComposerList.Add(\"Bernsteinl\", 7);\n",
    "\n",
    " Dictionary < string, Int16 > SortedComposerList = new Dictionary < string, Int16 > ();   // Making another dictionary for sorted ones\n",
    " List < string > SortedComposers = new List < string > ();\n",
    " Console.WriteLine(\"Sorted by Composer Name\");\n",
    " Console.WriteLine(\"-----------------------\");\n",
    " \n",
    " // for each loop for sorting the composer names on the basis of a key from  dictionary\n",
    " \n",
    " foreach(KeyValuePair < string, Int16 > author in ComposerList.OrderBy(key => key.Key)) \n",
    " { \n",
    "     Console.WriteLine(\"Key: {0}, Value: {1}\", author.Key, author.Value);\n",
    "     SortedComposerList.Add(author.Key, author.Value);\n",
    "     SortedComposers.Add(author.Key);\n",
    " }\n",
    " Console.WriteLine(\"\\nFirst Composer : {0},\\nLast Composer : {1}\", SortedComposers.First(), SortedComposers.Last()); \n",
    " Console.WriteLine(\"\\nFirst Composer : {0},\\nLast Composer : {1}\", SortedComposerList.First(), SortedComposerList.Last());\n",
    " \n",
    "Console.WriteLine($\"\\nBy Second Method using sorted set\");\n",
    "\n",
    "SortedSet<string> composerList = new SortedSet<string>();\n",
    "composerList.Add(\"Berlioz\");\n",
    "composerList.Add(\"Borodin\");\n",
    "composerList.Add(\"Brian\");\n",
    "composerList.Add(\"Bartok\");\n",
    "composerList.Add(\"Bellini\");\n",
    "composerList.Add(\"Buxtehude\");\n",
    "composerList.Add(\"Bernsteinl\");\n",
    "\n",
    "  foreach(var val in composerList)\n",
    "        {\n",
    "           // Console.WriteLine(val);\n",
    "        }\n",
    "\n",
    "Console.WriteLine(\"\\nFirst Composer : {0},\\nLast Composer : {1}\", composerList.First(), composerList.Last());"
   ]
  },
  {
   "cell_type": "markdown",
   "id": "c50fd9ce",
   "metadata": {},
   "source": [
    "### Question 3\n",
    "\n",
    "*Implement function triangleArea(a,b,c) that takes as input the lengths of the 3\n",
    "sides of a triangle and returns the area of the triangle. By Heron's formula, the area \n",
    "of a triangle with side lengths a, b, and c is\n",
    "s(s - a)(s -b)(s -c)\n",
    ", where \n",
    "s = (a+b+c)/2.*"
   ]
  },
  {
   "cell_type": "code",
   "execution_count": 19,
   "id": "39bac2a4",
   "metadata": {},
   "outputs": [
    {
     "name": "stdout",
     "output_type": "stream",
     "text": [
      "Area of Triangle : 1.7320508075688772\r\n"
     ]
    }
   ],
   "source": [
    "public static double triangleArea(int a, int b, int c)\n",
    "{\n",
    "    double s = (a + b + c) / 2;\n",
    "    double area = Math.Sqrt(s * (s - a) *\n",
    "        (s - b) * (s - c));\n",
    "    return area;\n",
    "}\n",
    "double area = triangleArea(2, 2, 2);\n",
    "Console.WriteLine($\"Area of Triangle : {area}\")"
   ]
  },
  {
   "cell_type": "markdown",
   "id": "6c609ab1",
   "metadata": {},
   "source": [
    "### Question 4\n",
    "\n",
    "*Write a program in C# Sharp to separate odd and even integers in separate arrays*"
   ]
  },
  {
   "cell_type": "markdown",
   "id": "8e2ebb66",
   "metadata": {},
   "source": [
    "**NOTE: <br> I soloved this question using visual studio as jupyter doesn't support ReadLine in C#</br> \n",
    "        <br> I attached screenshot of output of console in the next cell.**</br>"
   ]
  },
  {
   "cell_type": "code",
   "execution_count": null,
   "id": "8804dd17",
   "metadata": {},
   "outputs": [],
   "source": [
    "// I soloved this question using visual studio as jupyter doesn't support ReadLine in C#, \n",
    "// I attached screenshot of output of console in the next cell.\n",
    "\n",
    "Console.Write(\"Input the number of elements to be stored in the array :\");\n",
    "int inpt = Convert.ToInt32(Console.ReadLine());\n",
    "int[] arr = new int[inpt];\n",
    "int[] EvenArr;\n",
    "int[] OddArr;\n",
    "List < int > EvenNos = new List < int > ();\n",
    "List < int > OddNos = new List < int > ();\n",
    "Console.WriteLine($\"Input {inpt} elements in the array :\");\n",
    "for (int i = 0; i < 5; i++) {\n",
    "    Console.Write(\"element - {0} : \", i);         \n",
    "    arr[i] = Convert.ToInt32(Console.ReadLine());  // reading inputs from a console\n",
    "}\n",
    "\n",
    "for (int i = 0; i < 5; i++) {\n",
    "    //Console.Write(\"{0}  \", arr[i]);\n",
    "    if (arr[i] % 2 == 0) {       // separating numbers in 2 different arrays on basis of even and odd\n",
    "        EvenNos.Add(arr[i]);\n",
    "        EvenArr = EvenNos.ToArray();\n",
    "    } else {\n",
    "        OddNos.Add(arr[i]);\n",
    "        OddArr = OddNos.ToArray();\n",
    "    }\n",
    "}\n",
    "\n",
    "Console.WriteLine(\"\\nThe Even elements are:\");\n",
    "\n",
    "foreach(int i in EvenNos) {        // printing even nos.\n",
    "    Console.Write($\"{i}\\t\");\n",
    "}\n",
    "\n",
    "Console.WriteLine(\"\\nThe Odd elements are:\");\n",
    "foreach(int i in OddNos) {         // printing odd nos.\n",
    "    Console.Write($\"{i}\\t\");\n",
    "}\n",
    "Console.WriteLine(\"\\n\");"
   ]
  },
  {
   "attachments": {
    "ad.png": {
     "image/png": "[encoded data removed]"
    }
   },
   "cell_type": "markdown",
   "id": "0bcc85bd",
   "metadata": {},
   "source": [
    "![ad.png](attachment:ad.png)"
   ]
  },
  {
   "cell_type": "markdown",
   "id": "f28fc1b9",
   "metadata": {},
   "source": [
    "### Question 5\n",
    "*a. Write a function inside(x,y,x1,y1,x2,y2) that returns True or False \n",
    "depending on whether the point (x,y) lies in the rectangle with lower left \n",
    "corner (x1,y1) and upper right corner (x2,y2).*\n",
    ">>> inside(1,1,0,0,2,3)\n",
    "True\n",
    ">>> inside(-1,-1,0,0,2,3)\n",
    "False\n"
   ]
  },
  {
   "cell_type": "markdown",
   "id": "3acf6235",
   "metadata": {},
   "source": [
    "*b. Use function inside() from part a. to write an expression that tests whether \n",
    "the point (1,1) lies in both of the following rectangles: one with lower left \n",
    "corner (0.3, 0.5) and upper right corner (1.1, 0.7) and the other with lower \n",
    "left corner (0.5, 0.2) and upper right corner (1.1, 2).*"
   ]
  },
  {
   "cell_type": "code",
   "execution_count": 20,
   "id": "ebddbc66",
   "metadata": {},
   "outputs": [
    {
     "name": "stdout",
     "output_type": "stream",
     "text": [
      "----------a.--------\n",
      "\n",
      "inside(1,1,0,0,2,3):True\n",
      "inside(-1,-1,0,0,2,3):False\n",
      "\n",
      "----------b.--------\n",
      "\n",
      "The point (1,1) doesn't lie in both of the following rectangles\n",
      "\n",
      "inside(1,1,0.3,0.5,1.1,0.7):False\n",
      "inside(1,1,0.5,0.2,1.1,2):True\n"
     ]
    }
   ],
   "source": [
    "public static bool inside(double x, double y, double x1, double y1, double x2, double y2)\n",
    "{\n",
    "    // points - x,y, lower left corner - x1,y1, upper right corner - x2,y2.   \n",
    "\n",
    "    if (x > x1 && x < x2 &&\n",
    "        y > y1 && y < y2)\n",
    "        return true;\n",
    "\n",
    "    return false;\n",
    "}\n",
    "\n",
    "Console.WriteLine(\"----------a.--------\\n\");\n",
    "Console.WriteLine($\"inside(1,1,0,0,2,3):{inside(1,1,0,0,2,3)}\");\n",
    "Console.WriteLine($\"inside(-1,-1,0,0,2,3):{inside(-1,-1,0,0,2,3)}\\n\");\n",
    "Console.WriteLine(\"----------b.--------\\n\");\n",
    "\n",
    "\n",
    "if(inside(1,1,0.3,0.5,1.1,0.7) && inside(1,1,0.5,0.2,1.1,2)){\n",
    "    Console.WriteLine(\"the point (1,1) lies in both of the following rectangles\");\n",
    "}\n",
    "else{\n",
    "    Console.WriteLine(\"The point (1,1) doesn't lie in both of the following rectangles\");\n",
    "}\n",
    "Console.WriteLine($\"\\ninside(1,1,0.3,0.5,1.1,0.7):{inside(1,1,0.3,0.5,1.1,0.7)}\");\n",
    "Console.WriteLine($\"inside(1,1,0.5,0.2,1.1,2):{inside(1,1,0.5,0.2,1.1,2)}\");"
   ]
  },
  {
   "cell_type": "markdown",
   "id": "4b87c92a",
   "metadata": {},
   "source": []
  }
 ],
 "metadata": {
  "kernelspec": {
   "display_name": ".NET (C#)",
   "language": "C#",
   "name": ".net-csharp"
  },
  "language_info": {
   "file_extension": ".cs",
   "mimetype": "text/x-csharp",
   "name": "C#",
   "pygments_lexer": "csharp",
   "version": "9.0"
  }
 },
 "nbformat": 4,
 "nbformat_minor": 5
}

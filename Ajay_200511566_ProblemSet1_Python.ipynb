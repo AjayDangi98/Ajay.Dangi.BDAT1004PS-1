{
 "cells": [
  {
   "cell_type": "markdown",
   "id": "b164f6ca",
   "metadata": {},
   "source": [
    "# Questions 6 to 10 (Python)"
   ]
  },
  {
   "cell_type": "markdown",
   "id": "102d7fd1",
   "metadata": {},
   "source": [
    "### Question 6\n",
    "\n",
    "*You can turn a word into pig-Latin using the following two rules (simplified):\n",
    "• If the word starts with a consonant, move that letter to the end and append \n",
    "'ay'. For example, 'happy' becomes 'appyhay' and 'pencil' becomes 'encilpay'.\n",
    "• If the word starts with a vowel, simply append 'way' to the end of the word. \n",
    "For example, 'enter' becomes 'enterway' and 'other' becomes 'otherway' . For \n",
    "our purposes, there are 5 vowels: a, e, i, o, u (so we count y as a consonant).\n",
    "Write a function pig() that takes a word (i.e., a string) as input and returns its pig\u0002Latin form. Your function should still work if the input word contains upper case \n",
    "characters. Your output should always be lower case however.*\n",
    "*<br>>>> pig('happy')</br>\n",
    "<br>'appyhay'</br>\n",
    "<br>>>> pig('Enter')</br>\n",
    "<br>'enterway'*</br>"
   ]
  },
  {
   "cell_type": "code",
   "execution_count": 3,
   "id": "52cc9d9b",
   "metadata": {},
   "outputs": [
    {
     "name": "stdout",
     "output_type": "stream",
     "text": [
      "appyhay\n"
     ]
    }
   ],
   "source": [
    "vowels=('a','e','i','o','u') \n",
    "def pig(word):\n",
    "    if(word[0].lower() in vowels):  #identifyting vowels \n",
    "        print(word.lower()+'way')\n",
    "    else:\n",
    "        print(word[1:].lower()+word[0].lower()+'ay') \n",
    "pig('happy')\n"
   ]
  },
  {
   "cell_type": "code",
   "execution_count": 2,
   "id": "a8c9b762",
   "metadata": {},
   "outputs": [
    {
     "name": "stdout",
     "output_type": "stream",
     "text": [
      "enterway\n"
     ]
    }
   ],
   "source": [
    "vowels=('a','e','i','o','u') \n",
    "def pig(word):\n",
    "    if(word[0].lower() in vowels):  #identifyting vowels \n",
    "        print(word.lower()+'way')\n",
    "    else:\n",
    "        print(word[1:].lower()+word[0].lower()+'ay') \n",
    "pig('Enter')"
   ]
  },
  {
   "cell_type": "markdown",
   "id": "61457e24",
   "metadata": {},
   "source": [
    "### Question 7\n",
    "\n",
    "*File bloodtype1.txt records blood-types of patients (A, B, AB, O or OO) at a clinic. \n",
    "Write a function bldcount() that reads the file with name name and reports (i.e., \n",
    "prints) how many patients there are in each bloodtype.*\n",
    "\n",
    "*>>> bldcount('bloodtype.txt')\n",
    "<br>There are 10 patients of blood type A.</br>\n",
    "<br>There is one patient of blood type B.</br>\n",
    "<br>There are 10 patients of blood type AB.</br>\n",
    "<br>There are 12 patients of blood type O.</br>\n",
    "<br>There are no patients of blood type OO.</br>*"
   ]
  },
  {
   "cell_type": "code",
   "execution_count": 7,
   "id": "973606b0",
   "metadata": {},
   "outputs": [
    {
     "name": "stdout",
     "output_type": "stream",
     "text": [
      "There are 10 patients of blood type A.\n",
      "There is one patient of blood type B.\n",
      "There are 10 patients of blood type AB.\n",
      "There are 12 patients of blood type O.\n",
      "There are no patients of blood type OO.\n"
     ]
    }
   ],
   "source": [
    "def bldcount():\n",
    "    infile = open('C:/bloodtype1.txt')\n",
    "    data=infile.read()\n",
    "    finalData=data.split()\n",
    "    bld_CountA(finalData.count(\"A\"))         \n",
    "    bld_CountB(finalData.count(\"B\"))       \n",
    "    bld_CountAB(finalData.count(\"AB\"))\n",
    "    bld_CountO(finalData.count(\"O\"))\n",
    "    bld_CountOO(finalData.count(\"OO\"))\n",
    "    infile.close()\n",
    "def bld_CountA(countA):\n",
    "         if(countA==0):\n",
    "            print('There are no patients of blood type A.')\n",
    "         elif(countA==1):\n",
    "            print(\"There is one patient of blood type A.\")\n",
    "         else:\n",
    "            print(\"There are \" + str(countA) + \" patients of blood type A.\")\n",
    "def bld_CountB(countB):\n",
    "         if(countB==0):\n",
    "            print('There are no patients of blood type B.')\n",
    "         elif(countB==1):\n",
    "            print(\"There is one patient of blood type B.\")\n",
    "         else:\n",
    "            print(\"There are \" + str(countB) + \" patients of blood type B.\")\n",
    "def bld_CountAB(countAB):\n",
    "         if(countAB==0):\n",
    "            print('There are no patients of blood type AB.')\n",
    "         elif(countAB==1):\n",
    "            print(\"There is one patient of blood type AB.\")\n",
    "         else:\n",
    "            print(\"There are \" + str(countAB) + \" patients of blood type AB.\")\n",
    "def bld_CountO(countO):\n",
    "         if(countO==0):\n",
    "            print('There are no patients of blood type O.')\n",
    "         elif(countO==1):\n",
    "            print(\"There is one patient of blood type O.\")\n",
    "         else:\n",
    "            print(\"There are \" + str(countO) + \" patients of blood type O.\")\n",
    "def bld_CountOO(countOO):\n",
    "         if(countOO==0):\n",
    "            print('There are no patients of blood type OO.')\n",
    "         elif(countOO==1):\n",
    "            print(\"There is one patient of blood type OO.\")\n",
    "         else:\n",
    "            print(\"There are \" + str(countOO) + \" patients of blood type OO.\")\n",
    "            \n",
    "            \n",
    "bldcount()     # calling funcion."
   ]
  },
  {
   "cell_type": "markdown",
   "id": "a2a0571f",
   "metadata": {},
   "source": [
    "### Question 8\n",
    "\n",
    "*Write a function curconv() that takes as input:*\n",
    "*1. a currency represented using a string (e.g., 'JPY' for the Japanese Yen or \n",
    "'EUR' for the Euro)*\n",
    "*2. an amount\n",
    "and then converts and returns the amount in US dollars.*\n",
    "<br>>>> curconv('EUR', 100)</br>\n",
    "<br>122.96544</br>\n",
    "<br>>>> curconv('JPY', 100)</br>\n",
    "<br>1.241401</br>"
   ]
  },
  {
   "cell_type": "code",
   "execution_count": 23,
   "id": "56cb0005",
   "metadata": {},
   "outputs": [
    {
     "name": "stdout",
     "output_type": "stream",
     "text": [
      "Enter the currency :EUR\n",
      "Enter the currency :JPY\n"
     ]
    }
   ],
   "source": [
    "currencyEUR= input('Enter the currency :')    ## input for the Euro currency\n",
    "currencyJPY= input('Enter the currency :')    ## input for Japanese currency"
   ]
  },
  {
   "cell_type": "code",
   "execution_count": 24,
   "id": "62fd3652",
   "metadata": {},
   "outputs": [
    {
     "name": "stdout",
     "output_type": "stream",
     "text": [
      "Your converted currency in US dollars from EUR : 122.96544\n",
      "Your converted currency in US dollars from JPY : 1.241401\n"
     ]
    }
   ],
   "source": [
    "def curconv(curr,conv):             \n",
    "    infile=open('C:\\currencies.txt')\n",
    "    data= infile.read()\n",
    "    finalData=data.split()         \n",
    "    #print(data)\n",
    "    #print(finalData)\n",
    "    infile.close()\n",
    "    if(curr in finalData):\n",
    "        pos = finalData.index(curr) + 1       # finding the next position(index) of the required currency\n",
    "        conv = float(finalData[pos]) * conv   # Accessing that value at particular index and converting to USD\n",
    "        print('Your converted currency in US dollars from ' + curr + ' : ' + str(conv))\n",
    "        \n",
    "curconv(currencyEUR.upper(),100) \n",
    "curconv(currencyJPY.upper(),100)"
   ]
  },
  {
   "cell_type": "markdown",
   "id": "6d0f0a64",
   "metadata": {},
   "source": [
    "### Question 9\n",
    "\n",
    "*Each of the following will cause an exception (an error). Identify what type of exception each will cause.*"
   ]
  },
  {
   "cell_type": "code",
   "execution_count": 10,
   "id": "4106aa09",
   "metadata": {},
   "outputs": [
    {
     "ename": "TypeError",
     "evalue": "unsupported operand type(s) for +: 'int' and 'str'",
     "output_type": "error",
     "traceback": [
      "\u001b[1;31m---------------------------------------------------------------------------\u001b[0m",
      "\u001b[1;31mTypeError\u001b[0m                                 Traceback (most recent call last)",
      "\u001b[1;32m~\\AppData\\Local\\Temp/ipykernel_10620/55046823.py\u001b[0m in \u001b[0;36m<module>\u001b[1;34m\u001b[0m\n\u001b[1;32m----> 1\u001b[1;33m \u001b[1;36m6\u001b[0m \u001b[1;33m+\u001b[0m \u001b[1;34m'a'\u001b[0m\u001b[1;33m\u001b[0m\u001b[1;33m\u001b[0m\u001b[0m\n\u001b[0m",
      "\u001b[1;31mTypeError\u001b[0m: unsupported operand type(s) for +: 'int' and 'str'"
     ]
    }
   ],
   "source": [
    "6 + 'a'"
   ]
  },
  {
   "cell_type": "code",
   "execution_count": 11,
   "id": "35436550",
   "metadata": {},
   "outputs": [
    {
     "ename": "IndexError",
     "evalue": "list index out of range",
     "output_type": "error",
     "traceback": [
      "\u001b[1;31m---------------------------------------------------------------------------\u001b[0m",
      "\u001b[1;31mIndexError\u001b[0m                                Traceback (most recent call last)",
      "\u001b[1;32m~\\AppData\\Local\\Temp/ipykernel_10620/4196615528.py\u001b[0m in \u001b[0;36m<module>\u001b[1;34m\u001b[0m\n\u001b[0;32m      1\u001b[0m \u001b[0mlist\u001b[0m \u001b[1;33m=\u001b[0m \u001b[1;33m[\u001b[0m\u001b[1;36m1\u001b[0m\u001b[1;33m,\u001b[0m\u001b[1;36m2\u001b[0m\u001b[1;33m,\u001b[0m\u001b[1;36m3\u001b[0m\u001b[1;33m,\u001b[0m\u001b[1;36m4\u001b[0m\u001b[1;33m,\u001b[0m\u001b[1;36m5\u001b[0m\u001b[1;33m,\u001b[0m\u001b[1;36m6\u001b[0m\u001b[1;33m,\u001b[0m\u001b[1;36m7\u001b[0m\u001b[1;33m,\u001b[0m\u001b[1;36m8\u001b[0m\u001b[1;33m,\u001b[0m\u001b[1;36m9\u001b[0m\u001b[1;33m,\u001b[0m\u001b[1;36m10\u001b[0m\u001b[1;33m]\u001b[0m\u001b[1;33m\u001b[0m\u001b[1;33m\u001b[0m\u001b[0m\n\u001b[1;32m----> 2\u001b[1;33m \u001b[0mprint\u001b[0m\u001b[1;33m(\u001b[0m\u001b[0mlist\u001b[0m\u001b[1;33m[\u001b[0m\u001b[1;36m12\u001b[0m\u001b[1;33m]\u001b[0m\u001b[1;33m)\u001b[0m\u001b[1;33m\u001b[0m\u001b[1;33m\u001b[0m\u001b[0m\n\u001b[0m",
      "\u001b[1;31mIndexError\u001b[0m: list index out of range"
     ]
    }
   ],
   "source": [
    "list = [1,2,3,4,5,6,7,8,9,10]\n",
    "print(list[12])"
   ]
  },
  {
   "cell_type": "code",
   "execution_count": 15,
   "id": "90084a39",
   "metadata": {},
   "outputs": [
    {
     "ename": "ValueError",
     "evalue": "math domain error",
     "output_type": "error",
     "traceback": [
      "\u001b[1;31m---------------------------------------------------------------------------\u001b[0m",
      "\u001b[1;31mValueError\u001b[0m                                Traceback (most recent call last)",
      "\u001b[1;32m~\\AppData\\Local\\Temp/ipykernel_10620/3755102649.py\u001b[0m in \u001b[0;36m<module>\u001b[1;34m\u001b[0m\n\u001b[0;32m      1\u001b[0m \u001b[1;32mimport\u001b[0m \u001b[0mmath\u001b[0m\u001b[1;33m\u001b[0m\u001b[1;33m\u001b[0m\u001b[0m\n\u001b[1;32m----> 2\u001b[1;33m \u001b[0mprint\u001b[0m\u001b[1;33m(\u001b[0m\u001b[0mmath\u001b[0m\u001b[1;33m.\u001b[0m\u001b[0msqrt\u001b[0m\u001b[1;33m(\u001b[0m\u001b[1;33m-\u001b[0m\u001b[1;36m1.0\u001b[0m\u001b[1;33m)\u001b[0m\u001b[1;33m)\u001b[0m\u001b[1;33m\u001b[0m\u001b[1;33m\u001b[0m\u001b[0m\n\u001b[0m",
      "\u001b[1;31mValueError\u001b[0m: math domain error"
     ]
    }
   ],
   "source": [
    "import math\n",
    "print(math.sqrt(-1.0))"
   ]
  },
  {
   "cell_type": "code",
   "execution_count": 16,
   "id": "23ca351b",
   "metadata": {},
   "outputs": [
    {
     "ename": "NameError",
     "evalue": "name 'x' is not defined",
     "output_type": "error",
     "traceback": [
      "\u001b[1;31m---------------------------------------------------------------------------\u001b[0m",
      "\u001b[1;31mNameError\u001b[0m                                 Traceback (most recent call last)",
      "\u001b[1;32m~\\AppData\\Local\\Temp/ipykernel_10620/1353120783.py\u001b[0m in \u001b[0;36m<module>\u001b[1;34m\u001b[0m\n\u001b[1;32m----> 1\u001b[1;33m \u001b[0mprint\u001b[0m\u001b[1;33m(\u001b[0m\u001b[0mx\u001b[0m\u001b[1;33m)\u001b[0m\u001b[1;33m\u001b[0m\u001b[1;33m\u001b[0m\u001b[0m\n\u001b[0m",
      "\u001b[1;31mNameError\u001b[0m: name 'x' is not defined"
     ]
    }
   ],
   "source": [
    "print(x)"
   ]
  },
  {
   "cell_type": "code",
   "execution_count": 17,
   "id": "01f1bef1",
   "metadata": {},
   "outputs": [
    {
     "ename": "FileNotFoundError",
     "evalue": "[Errno 2] No such file or directory: 'Ajaydangi.txt'",
     "output_type": "error",
     "traceback": [
      "\u001b[1;31m---------------------------------------------------------------------------\u001b[0m",
      "\u001b[1;31mFileNotFoundError\u001b[0m                         Traceback (most recent call last)",
      "\u001b[1;32m~\\AppData\\Local\\Temp/ipykernel_10620/855113733.py\u001b[0m in \u001b[0;36m<module>\u001b[1;34m\u001b[0m\n\u001b[1;32m----> 1\u001b[1;33m \u001b[0mfile\u001b[0m \u001b[1;33m=\u001b[0m \u001b[0mopen\u001b[0m\u001b[1;33m(\u001b[0m\u001b[1;34m'Ajaydangi.txt'\u001b[0m\u001b[1;33m,\u001b[0m\u001b[1;34m'r'\u001b[0m\u001b[1;33m)\u001b[0m\u001b[1;33m\u001b[0m\u001b[1;33m\u001b[0m\u001b[0m\n\u001b[0m\u001b[0;32m      2\u001b[0m \u001b[0mprint\u001b[0m\u001b[1;33m(\u001b[0m\u001b[0mfile\u001b[0m\u001b[1;33m.\u001b[0m\u001b[0mread\u001b[0m\u001b[1;33m(\u001b[0m\u001b[1;33m)\u001b[0m\u001b[1;33m)\u001b[0m\u001b[1;33m\u001b[0m\u001b[1;33m\u001b[0m\u001b[0m\n",
      "\u001b[1;31mFileNotFoundError\u001b[0m: [Errno 2] No such file or directory: 'Ajaydangi.txt'"
     ]
    }
   ],
   "source": [
    "file = open('Ajaydangi.txt','r')\n",
    "print(file.read())"
   ]
  },
  {
   "cell_type": "markdown",
   "id": "c509637a",
   "metadata": {},
   "source": [
    "### Question 10 \n",
    "\n",
    "*Encryption is the process of hiding the meaning of a text by substituting letters in the \n",
    "message with other letters, according to some system. If the process is successful, no \n",
    "one but the intended recipient can understand the encrypted message. Cryptanalysis\n",
    "refers to attempts to undo the encryption, even if some details of the encryption are \n",
    "unknown (for example, if an encrypted message has been intercepted). The first step \n",
    "of cryptanalysis is often to build up a table of letter frequencies in the encrypted text. \n",
    "Assume that the string letters is already defined as \n",
    "'abcdefghijklmnopqrstuvwxyz'. Write a function called frequencies()\n",
    "that takes a string as its only parameter, and returns a list of integers, showing the \n",
    "number of times each character appears in the text. Your function may ignore any \n",
    "characters that are not in letters.*\n",
    "\n",
    "<br>>>> frequencies('The quick red fox got bored and went home.')\n",
    "[1, 1, 1, 3, 5, 1, 1, 2, 1, 0, 1, 0, 1, 2, 4, 0, 1, 2, 0, 2, \n",
    "1, 0, 1, 1, 0, 0]\n",
    "*>>> frequencies('apple')</br>*"
   ]
  },
  {
   "cell_type": "code",
   "execution_count": 22,
   "id": "4896ffbe",
   "metadata": {},
   "outputs": [
    {
     "name": "stdout",
     "output_type": "stream",
     "text": [
      "1,1,1,3,5,1,1,2,1,0,1,0,1,2,4,0,1,2,0,2,1,0,1,1,0,0,\n",
      "\n",
      "1,0,0,0,1,0,0,0,0,0,0,1,0,0,0,2,0,0,0,0,0,0,0,0,0,0,"
     ]
    }
   ],
   "source": [
    "def frequencies(string):\n",
    "    letters=['a','b','c','d','e','f','g','h','i','j','k','l','m','n','o','p','q','r','s','t','u','v','w','x','y','z']\n",
    "    inputWord= string\n",
    "    Length_letters=len(letters)     #list length counting\n",
    "    for i in range(0,Length_letters):      \n",
    "        data= inputWord.count(letters[i])  \n",
    "        letters1 = str(data)\n",
    "        print(letters1,end= \",\" )\n",
    "frequencies('The quick red fox got bored and went home.')\n",
    "print(\"\\n\")\n",
    "frequencies('apple')"
   ]
  },
  {
   "cell_type": "code",
   "execution_count": null,
   "id": "5ddf2611",
   "metadata": {},
   "outputs": [],
   "source": []
  },
  {
   "cell_type": "code",
   "execution_count": null,
   "id": "5a7df552",
   "metadata": {},
   "outputs": [],
   "source": []
  }
 ],
 "metadata": {
  "kernelspec": {
   "display_name": "Python 3 (ipykernel)",
   "language": "python",
   "name": "python3"
  },
  "language_info": {
   "codemirror_mode": {
    "name": "ipython",
    "version": 3
   },
   "file_extension": ".py",
   "mimetype": "text/x-python",
   "name": "python",
   "nbconvert_exporter": "python",
   "pygments_lexer": "ipython3",
   "version": "3.9.7"
  }
 },
 "nbformat": 4,
 "nbformat_minor": 5
}
